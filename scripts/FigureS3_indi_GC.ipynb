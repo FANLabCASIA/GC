{
 "cells": [
  {
   "cell_type": "code",
   "execution_count": 1,
   "metadata": {},
   "outputs": [
    {
     "name": "stderr",
     "output_type": "stream",
     "text": [
      "/n01dat01/dyli/soft/miniconda3/envs/pynb/lib/python3.8/site-packages/nilearn/datasets/__init__.py:93: FutureWarning: Fetchers from the nilearn.datasets module will be updated in version 0.9 to return python strings instead of bytes and Pandas dataframes instead of Numpy arrays.\n",
      "  warn(\"Fetchers from the nilearn.datasets module will be \"\n"
     ]
    }
   ],
   "source": [
    "import os\n",
    "import gc\n",
    "import sys\n",
    "import time\n",
    "import h5py\n",
    "import torch\n",
    "import numpy as np\n",
    "import pandas as pd\n",
    "from numpy.lib.function_base import corrcoef\n",
    "import nibabel as nib\n",
    "from nilearn import image, surface, plotting, datasets\n",
    "\n",
    "from sklearn.metrics import pairwise_distances\n",
    "import scipy.sparse as sps\n",
    "import scipy as sp\n",
    "from scipy.sparse.linalg import eigsh, eigs\n",
    "from tqdm import tqdm\n",
    "import matplotlib.pyplot as plt\n",
    "from matplotlib import cm\n",
    "from matplotlib.colors import ListedColormap, LinearSegmentedColormap\n",
    "import seaborn as sns\n",
    "\n",
    "from scipy import stats\n",
    "from scipy.stats import pearsonr\n",
    "\n",
    "from matplotlib import font_manager\n",
    "font_manager.fontManager.addfont(\"/n02dat01/users/lchai/anaconda3/envs/Nm/lib/python3.8/site-packages/matplotlib/mpl-data/fonts/ttf/arial.ttf\")\n",
    "plt.rcParams[\"font.sans-serif\"] = \"Arial\" "
   ]
  },
  {
   "cell_type": "code",
   "execution_count": 2,
   "metadata": {},
   "outputs": [],
   "source": [
    "# read the basic info\n",
    "dirc_L = '/n02dat01/users/dyli/Atlas/metric_index_L.txt'\n",
    "select_ind_L = np.loadtxt( dirc_L ).astype(int)\n",
    "dirc_R = '/n02dat01/users/dyli/Atlas/metric_index_R.txt'\n",
    "select_ind_R = np.loadtxt( dirc_R ).astype(int)"
   ]
  },
  {
   "cell_type": "code",
   "execution_count": 3,
   "metadata": {},
   "outputs": [],
   "source": [
    "def procrustes(source, target, center=False, scale=False):\n",
    "    \"\"\"Align `source` to `target` using procrustes analysis.\n",
    "\n",
    "    Parameters\n",
    "    ----------\n",
    "    source : 2D ndarray, shape = (n_samples, n_feat)\n",
    "        Source dataset.\n",
    "    target : 2D ndarray, shape = (n_samples, n_feat)\n",
    "        Target dataset.\n",
    "    center : bool, optional\n",
    "        Center data before alignment. Default is False.\n",
    "    scale : bool, optional\n",
    "        Remove scale before alignment. Default is False.\n",
    "\n",
    "    Returns\n",
    "    -------\n",
    "    aligned : 2D ndarray, shape = (n_samples, n_feat)\n",
    "        Source dataset aligned to target dataset.\n",
    "    \"\"\"\n",
    "\n",
    "    # Translate to origin\n",
    "    if center:\n",
    "        ms = source.mean(axis=0)\n",
    "        mt = target.mean(axis=0)\n",
    "\n",
    "        source = source - ms\n",
    "        target = target - mt\n",
    "\n",
    "    # Remove scale\n",
    "    if scale:\n",
    "        ns = np.linalg.norm(source)\n",
    "        nt = np.linalg.norm(target)\n",
    "        source /= ns\n",
    "        target /= nt\n",
    "\n",
    "    # orthogonal transformation: rotation + reflection\n",
    "    u, w, vt = np.linalg.svd(target.T.dot(source).T)\n",
    "    t = u.dot(vt)\n",
    "\n",
    "    # Recover target scale\n",
    "    if scale:\n",
    "        t *= w.sum() * nt\n",
    "\n",
    "    # print(t)\n",
    "    aligned = source.dot(t)\n",
    "    if center:\n",
    "        aligned += mt\n",
    "    return aligned"
   ]
  },
  {
   "cell_type": "markdown",
   "metadata": {},
   "source": [
    "# HCP twins"
   ]
  },
  {
   "cell_type": "code",
   "execution_count": 4,
   "metadata": {},
   "outputs": [
    {
     "name": "stdout",
     "output_type": "stream",
     "text": [
      "(29696, 23) (29716, 21) 21\n"
     ]
    }
   ],
   "source": [
    "# 读取梯度数据\n",
    "emb_L = np.load('/n01dat01/dyli/data4n02/HCP_twins_sparse90_embedding_dense_emb_L.npy')\n",
    "emb_R = np.load('/n01dat01/dyli/data4n02/HCP_twins_sparse90_embedding_dense_emb_R.npy')\n",
    "print(emb_L.shape, emb_R.shape, min(emb_L.shape[1], emb_R.shape[1]))\n",
    "number = 10\n",
    "emb_L = emb_L[:, 0:number]\n",
    "emb_R = emb_R[:, 0:number]"
   ]
  },
  {
   "cell_type": "code",
   "execution_count": 10,
   "metadata": {},
   "outputs": [
    {
     "name": "stdout",
     "output_type": "stream",
     "text": [
      "194\n",
      "12\n",
      "182\n"
     ]
    },
    {
     "name": "stderr",
     "output_type": "stream",
     "text": [
      "100%|██████████| 182/182 [00:09<00:00, 18.62it/s]\n"
     ]
    }
   ],
   "source": [
    "indi_father = '/n01dat01/dyli/data4n02/HCP_twin'\n",
    "\n",
    "name_path = './HCP_twins.txt'\n",
    "with open( name_path, 'r' ) as f:\n",
    "    namelist = [ str( line.strip()) for line in f.readlines() ]\n",
    "print(len(namelist))\n",
    "rm_list = ['552544','126931','745555','116120','150423','179548','149741','395958','142626','198855','128329','107422']\n",
    "print(len(rm_list))\n",
    "namelist_new = namelist\n",
    "for _ in rm_list:\n",
    "    namelist_new.remove(_)\n",
    "print(len(namelist_new))\n",
    "\n",
    "for sub in tqdm(namelist_new):\n",
    "    indi_L = np.load(f'{indi_father}/{sub}/{sub}_embedding_dense_emb_L_zeros_vertex_new.npy')\n",
    "    indi_R = np.load(f'{indi_father}/{sub}/{sub}_embedding_dense_emb_R_zeros_vertex_new.npy')\n",
    "\n",
    "    assert indi_L.shape[1] >= number and indi_R.shape[1] >= number\n",
    "\n",
    "    indi_L_new = procrustes(indi_L[:, 0:number], emb_L)\n",
    "    indi_R_new = procrustes(indi_R[:, 0:number], emb_R)\n",
    "\n",
    "    np.save(f'/n02dat01/users/dyli/Grad_data/indi_GCs_alignment/twin_{sub}_emb_L.npy', indi_L_new)\n",
    "    np.save(f'/n02dat01/users/dyli/Grad_data/indi_GCs_alignment/twin_{sub}_emb_R.npy', indi_R_new)"
   ]
  },
  {
   "cell_type": "markdown",
   "metadata": {},
   "source": [
    "# HCP unrelated"
   ]
  },
  {
   "cell_type": "markdown",
   "metadata": {},
   "source": [
    "* read the group GCs"
   ]
  },
  {
   "cell_type": "code",
   "execution_count": 5,
   "metadata": {},
   "outputs": [
    {
     "name": "stdout",
     "output_type": "stream",
     "text": [
      "(29696, 23) (29716, 21) 21\n"
     ]
    }
   ],
   "source": [
    "# 读取梯度数据\n",
    "emb_L = np.load('/n02dat01/users/dyli/Grad_data/sc/MPC_Grad_results/MPC_sc_vertex_volume_100_embedding_dense_emb_L_zeros.npy')\n",
    "emb_R = np.load('/n02dat01/users/dyli/Grad_data/sc/MPC_Grad_results/MPC_sc_vertex_volume_100_embedding_dense_emb_R_zeros.npy')\n",
    "print(emb_L.shape, emb_R.shape, min(emb_L.shape[1], emb_R.shape[1]))\n",
    "number = 20\n",
    "emb_L = emb_L[:, 0:number]\n",
    "emb_R = emb_R[:, 0:number]"
   ]
  },
  {
   "cell_type": "markdown",
   "metadata": {},
   "source": [
    "* individual GCs align to the group GCs"
   ]
  },
  {
   "cell_type": "code",
   "execution_count": null,
   "metadata": {},
   "outputs": [],
   "source": [
    "indi_father = '/n02dat01/users/dyli/Grad_data/n04_data/Grad_tmp/sc_MPC_grad_indi/emb'\n",
    "\n",
    "list_path = f'/n02dat01/users/dyli/Grad_data/support_data/HCP_U100_list.txt'\n",
    "with open( list_path, 'r' ) as f:\n",
    "    namelist = [ str( line.strip()) for line in f.readlines() ]\n",
    "print(len(namelist))\n",
    "\n",
    "for sub in tqdm(namelist):\n",
    "    indi_L = np.load(f'{indi_father}/{sub}_MPC_sc_embedding_dense_emb_L.npy')\n",
    "    indi_R = np.load(f'{indi_father}/{sub}_MPC_sc_embedding_dense_emb_R.npy')\n",
    "\n",
    "    assert indi_L.shape[1] >= number and indi_R.shape[1] >= number\n",
    "\n",
    "    indi_L_new = procrustes(indi_L[:, 0:number], emb_L)\n",
    "    indi_R_new = procrustes(indi_R[:, 0:number], emb_R)\n",
    "\n",
    "    np.save(f'/n02dat01/users/dyli/Grad_data/indi_GCs_alignment/{sub}_emb_L.npy', indi_L_new)\n",
    "    np.save(f'/n02dat01/users/dyli/Grad_data/indi_GCs_alignment/{sub}_emb_R.npy', indi_R_new)"
   ]
  },
  {
   "cell_type": "markdown",
   "metadata": {},
   "source": [
    "* plotting the correlation between the individual GCs and the group GCs"
   ]
  },
  {
   "cell_type": "code",
   "execution_count": null,
   "metadata": {},
   "outputs": [],
   "source": [
    "for sub in namelist:\n",
    "    # calculate the correlation between the original individual GCs and the group GCs\n",
    "    indi_L = np.load(f'{indi_father}/{sub}_MPC_sc_embedding_dense_emb_L.npy')\n",
    "    indi_R = np.load(f'{indi_father}/{sub}_MPC_sc_embedding_dense_emb_R.npy')\n",
    "    r = np.corrcoef(indi_L[:, 0:number].T, emb_L[:, 0:number].T)[0:number,:][:,number:]\n",
    "    f, ax= plt.subplots(figsize = (6, 5))\n",
    "    fig = sns.heatmap(r, cmap='RdBu_r', cbar=False)\n",
    "    plt.xticks([])\n",
    "    plt.yticks([])\n",
    "    cb = fig.figure.colorbar(fig.collections[0]) #显示colorbar\n",
    "    cb.ax.tick_params(labelsize=15) #设置colorbar刻度字体大小\n",
    "    ax.tick_params(labelsize=15)\n",
    "    ax.set_xticklabels(ax.get_xticklabels(), rotation=0, ha = 'right')\n",
    "    ax.set_yticklabels(ax.get_yticklabels(), rotation=0, ha = 'right')\n",
    "    fig = fig.get_figure()\n",
    "    plt.title(f'{sub}', fontsize=20)\n",
    "    fig.savefig(f'/n02dat01/users/dyli/Grad_data/indi_GCs_alignment/ori_indi_corr_plot/{sub}_L.png', transparent = True, bbox_inches = 'tight',dpi = 700, format='png')\n",
    "    plt.show()"
   ]
  },
  {
   "cell_type": "code",
   "execution_count": 18,
   "metadata": {},
   "outputs": [
    {
     "name": "stderr",
     "output_type": "stream",
     "text": [
      "/n01dat01/dyli/soft/miniconda3/envs/pynb/lib/python3.8/site-packages/seaborn/distributions.py:2619: FutureWarning: `distplot` is a deprecated function and will be removed in a future version. Please adapt your code to use either `displot` (a figure-level function with similar flexibility) or `histplot` (an axes-level function for histograms).\n",
      "  warnings.warn(msg, FutureWarning)\n"
     ]
    },
    {
     "data": {
      "image/png": "[encoded data removed]",
      "text/plain": [
       "<Figure size 864x576 with 1 Axes>"
      ]
     },
     "metadata": {
      "needs_background": "light"
     },
     "output_type": "display_data"
    },
    {
     "name": "stderr",
     "output_type": "stream",
     "text": [
      "/n01dat01/dyli/soft/miniconda3/envs/pynb/lib/python3.8/site-packages/seaborn/distributions.py:2619: FutureWarning: `distplot` is a deprecated function and will be removed in a future version. Please adapt your code to use either `displot` (a figure-level function with similar flexibility) or `histplot` (an axes-level function for histograms).\n",
      "  warnings.warn(msg, FutureWarning)\n"
     ]
    },
    {
     "data": {
      "image/png": "[encoded data removed]",
      "text/plain": [
       "<Figure size 864x576 with 1 Axes>"
      ]
     },
     "metadata": {
      "needs_background": "light"
     },
     "output_type": "display_data"
    },
    {
     "name": "stderr",
     "output_type": "stream",
     "text": [
      "/n01dat01/dyli/soft/miniconda3/envs/pynb/lib/python3.8/site-packages/seaborn/distributions.py:2619: FutureWarning: `distplot` is a deprecated function and will be removed in a future version. Please adapt your code to use either `displot` (a figure-level function with similar flexibility) or `histplot` (an axes-level function for histograms).\n",
      "  warnings.warn(msg, FutureWarning)\n"
     ]
    },
    {
     "data": {
      "image/png": "[encoded data removed]",
      "text/plain": [
       "<Figure size 864x576 with 1 Axes>"
      ]
     },
     "metadata": {
      "needs_background": "light"
     },
     "output_type": "display_data"
    }
   ],
   "source": [
    "number = 3\n",
    "r1 = np.zeros(len(namelist))\n",
    "r2 = np.zeros(len(namelist))\n",
    "r3 = np.zeros(len(namelist))\n",
    "for subi,sub in enumerate(namelist):\n",
    "    # calculate the correlation between the original individual GCs and the group GCs\n",
    "    indi_L = np.load(f'/n02dat01/users/dyli/Grad_data/n04_data/Grad_tmp/sc_MPC_grad_indi/emb/{sub}_MPC_sc_embedding_dense_emb_L.npy')\n",
    "    indi_R = np.load(f'/n02dat01/users/dyli/Grad_data/n04_data/Grad_tmp/sc_MPC_grad_indi/emb/{sub}_MPC_sc_embedding_dense_emb_R.npy')\n",
    "    r1[subi] = np.corrcoef(indi_L[:, 0:number].T, emb_L[:, 0:number].T)[0:number,:][:,number:][0,0]\n",
    "    # GC2 and GC3\n",
    "    if np.abs(np.corrcoef(indi_L[:, 0:number].T, emb_L[:, 0:number].T)[0:number,:][:,number:][1,1]) < np.abs(np.corrcoef(indi_L[:, 0:number].T, emb_L[:, 0:number].T)[0:number,:][:,number:][1,2]):\n",
    "        r2[subi] = np.corrcoef(indi_L[:, 0:number].T, emb_L[:, 0:number].T)[0:number,:][:,number:][1,2]\n",
    "        r3[subi] = np.corrcoef(indi_L[:, 0:number].T, emb_L[:, 0:number].T)[0:number,:][:,number:][2,1]\n",
    "    else:\n",
    "        r2[subi] = np.corrcoef(indi_L[:, 0:number].T, emb_L[:, 0:number].T)[0:number,:][:,number:][1,1]\n",
    "        r3[subi] = np.corrcoef(indi_L[:, 0:number].T, emb_L[:, 0:number].T)[0:number,:][:,number:][2,2]\n",
    "\n",
    "import seaborn as sns\n",
    "import matplotlib.pyplot as plt\n",
    "\n",
    "plt.figure(figsize=(12, 8))  #设置画布的大小\n",
    "sns.set_palette(\"hls\")       #设置所有图的颜色，使用hls色彩空间\n",
    "sns.distplot(np.abs(r1),color=\"steelblue\",bins=50)\n",
    "plt.xlabel('Pearson correlation with group GCs',fontsize=20)           #添加x轴标签，并改变字体\n",
    "plt.ylabel('Probability',fontsize=20)   #添加y轴变浅，并改变字体\n",
    "plt.grid(linestyle='-')   #添加网格线\n",
    "plt.xticks(fontsize=20)   #改变x轴字体大小\n",
    "plt.yticks(fontsize=20)   #改变y轴字体大小\n",
    "sns.despine(ax=None, top=True, right=True, left=True,bottom=True)    #将图像的框框删掉\n",
    "plt.show()\n",
    "\n",
    "plt.figure(figsize=(12, 8))  #设置画布的大小\n",
    "sns.set_palette(\"hls\")       #设置所有图的颜色，使用hls色彩空间\n",
    "sns.distplot(np.abs(r2),color=\"steelblue\",bins=50)\n",
    "plt.xlabel('Pearson correlation with group GCs',fontsize=20)           #添加x轴标签，并改变字体\n",
    "plt.ylabel('Probability',fontsize=20)   #添加y轴变浅，并改变字体\n",
    "plt.grid(linestyle='-')   #添加网格线\n",
    "plt.xticks(fontsize=20)   #改变x轴字体大小\n",
    "plt.yticks(fontsize=20)   #改变y轴字体大小\n",
    "sns.despine(ax=None, top=True, right=True, left=True,bottom=True)    #将图像的框框删掉\n",
    "plt.show()\n",
    "\n",
    "plt.figure(figsize=(12, 8))  #设置画布的大小\n",
    "sns.set_palette(\"hls\")       #设置所有图的颜色，使用hls色彩空间\n",
    "sns.distplot(np.abs(r3),color=\"steelblue\",bins=50)\n",
    "plt.xlabel('Pearson correlation with group GCs',fontsize=20)           #添加x轴标签，并改变字体\n",
    "plt.ylabel('Probability',fontsize=20)   #添加y轴变浅，并改变字体\n",
    "plt.grid(linestyle='-')   #添加网格线\n",
    "plt.xticks(fontsize=20)   #改变x轴字体大小\n",
    "plt.yticks(fontsize=20)   #改变y轴字体大小\n",
    "sns.despine(ax=None, top=True, right=True, left=True,bottom=True)    #将图像的框框删掉\n",
    "plt.show()"
   ]
  },
  {
   "cell_type": "code",
   "execution_count": null,
   "metadata": {},
   "outputs": [],
   "source": [
    "for sub in namelist:\n",
    "    # calculate the correlation between the individual GCs and the group GCs\n",
    "    indi_L = np.load(f'/n02dat01/users/dyli/Grad_data/indi_GCs_alignment/{sub}_emb_L.npy')\n",
    "    indi_R = np.load(f'/n02dat01/users/dyli/Grad_data/indi_GCs_alignment/{sub}_emb_R.npy')\n",
    "    r = np.corrcoef(indi_L[:, 0:number].T, emb_L[:, 0:number].T)[0:number,:][:,number:]\n",
    "    f, ax= plt.subplots(figsize = (6, 5))\n",
    "    fig = sns.heatmap(r, cmap='RdBu_r', cbar=False)\n",
    "    plt.xticks([])\n",
    "    plt.yticks([])\n",
    "    cb = fig.figure.colorbar(fig.collections[0]) #显示colorbar\n",
    "    cb.ax.tick_params(labelsize=15) #设置colorbar刻度字体大小\n",
    "    ax.tick_params(labelsize=15)\n",
    "    ax.set_xticklabels(ax.get_xticklabels(), rotation=0, ha = 'right')\n",
    "    ax.set_yticklabels(ax.get_yticklabels(), rotation=0, ha = 'right')\n",
    "    fig = fig.get_figure()\n",
    "    plt.title(f'{sub}', fontsize=20)\n",
    "    fig.savefig(f'/n02dat01/users/dyli/Grad_data/indi_GCs_alignment/align_indi_corr_plot/{sub}_L.png', transparent = True, bbox_inches = 'tight',dpi = 700, format='png')\n",
    "    plt.show()"
   ]
  },
  {
   "cell_type": "code",
   "execution_count": 8,
   "metadata": {},
   "outputs": [
    {
     "name": "stdout",
     "output_type": "stream",
     "text": [
      "100\n"
     ]
    },
    {
     "data": {
      "image/png": "[encoded data removed]",
      "text/plain": [
       "<Figure size 864x576 with 1 Axes>"
      ]
     },
     "metadata": {
      "needs_background": "light"
     },
     "output_type": "display_data"
    },
    {
     "data": {
      "image/png": "[encoded data removed]",
      "text/plain": [
       "<Figure size 864x576 with 1 Axes>"
      ]
     },
     "metadata": {
      "needs_background": "light"
     },
     "output_type": "display_data"
    },
    {
     "data": {
      "image/png": "[encoded data removed]",
      "text/plain": [
       "<Figure size 864x576 with 1 Axes>"
      ]
     },
     "metadata": {
      "needs_background": "light"
     },
     "output_type": "display_data"
    }
   ],
   "source": [
    "number = 3\n",
    "\n",
    "indi_father = '/n02dat01/users/dyli/Grad_data/n04_data/Grad_tmp/sc_MPC_grad_indi/emb'\n",
    "\n",
    "list_path = f'/n02dat01/users/dyli/Grad_data/support_data/HCP_U100_list.txt'\n",
    "with open( list_path, 'r' ) as f:\n",
    "    namelist = [ str( line.strip()) for line in f.readlines() ]\n",
    "print(len(namelist))\n",
    "\n",
    "r1 = np.zeros(len(namelist))\n",
    "r2 = np.zeros(len(namelist))\n",
    "r3 = np.zeros(len(namelist))\n",
    "for subi,sub in enumerate(namelist):\n",
    "    # calculate the correlation between the individual GCs and the group GCs\n",
    "    indi_L = np.load(f'/n02dat01/users/dyli/Grad_data/indi_GCs_alignment/{sub}_emb_L.npy')\n",
    "    indi_R = np.load(f'/n02dat01/users/dyli/Grad_data/indi_GCs_alignment/{sub}_emb_R.npy')\n",
    "    r1[subi] = np.corrcoef(indi_L[:, 0:number].T, emb_L[:, 0:number].T)[0:number,:][:,number:][0,0]\n",
    "    r2[subi] = np.corrcoef(indi_L[:, 0:number].T, emb_L[:, 0:number].T)[0:number,:][:,number:][1,1]\n",
    "    r3[subi] = np.corrcoef(indi_L[:, 0:number].T, emb_L[:, 0:number].T)[0:number,:][:,number:][2,2]\n",
    "\n",
    "import seaborn as sns\n",
    "import matplotlib.pyplot as plt\n",
    "\n",
    "plt.figure(figsize=(12, 8))  #设置画布的大小\n",
    "sns.set_palette(\"hls\")       #设置所有图的颜色，使用hls色彩空间\n",
    "sns.distplot(r1,color=\"steelblue\",bins=50,norm_hist=False, kde=False)\n",
    "plt.xlabel('Pearson correlation with group GC1',fontsize=20)           #添加x轴标签，并改变字体\n",
    "plt.ylabel('Probability (%)',fontsize=20)   #添加y轴变浅，并改变字体\n",
    "plt.grid(linestyle='-')   #添加网格线\n",
    "plt.xticks(fontsize=20)   #改变x轴字体大小\n",
    "plt.yticks(fontsize=20)   #改变y轴字体大小\n",
    "sns.despine(ax=None, top=True, right=True, left=True,bottom=True)    #将图像的框框删掉\n",
    "plt.show()\n",
    "\n",
    "plt.figure(figsize=(12, 8))  #设置画布的大小\n",
    "sns.set_palette(\"hls\")       #设置所有图的颜色，使用hls色彩空间\n",
    "sns.distplot(r2,color=\"steelblue\",bins=50,norm_hist=False, kde=False)\n",
    "plt.xlabel('Pearson correlation with group GC2',fontsize=20)           #添加x轴标签，并改变字体\n",
    "plt.ylabel('Probability (%)',fontsize=20)   #添加y轴变浅，并改变字体\n",
    "plt.grid(linestyle='-')   #添加网格线\n",
    "plt.xticks(fontsize=20)   #改变x轴字体大小\n",
    "plt.yticks(fontsize=20)   #改变y轴字体大小\n",
    "sns.despine(ax=None, top=True, right=True, left=True,bottom=True)    #将图像的框框删掉\n",
    "plt.show()\n",
    "\n",
    "plt.figure(figsize=(12, 8))  #设置画布的大小\n",
    "sns.set_palette(\"hls\")       #设置所有图的颜色，使用hls色彩空间\n",
    "sns.distplot(r3,color=\"steelblue\",bins=50,norm_hist=False, kde=False)\n",
    "plt.xlabel('Pearson correlation with group GC3',fontsize=20)           #添加x轴标签，并改变字体\n",
    "plt.ylabel('Probability (%)',fontsize=20)   #添加y轴变浅，并改变字体\n",
    "plt.grid(linestyle='-')   #添加网格线\n",
    "plt.xticks(fontsize=20)   #改变x轴字体大小\n",
    "plt.yticks(fontsize=20)   #改变y轴字体大小\n",
    "sns.despine(ax=None, top=True, right=True, left=True,bottom=True)    #将图像的框框删掉\n",
    "plt.show()"
   ]
  },
  {
   "cell_type": "markdown",
   "metadata": {},
   "source": [
    "# inter-subject variability map"
   ]
  },
  {
   "cell_type": "code",
   "execution_count": 10,
   "metadata": {},
   "outputs": [
    {
     "name": "stdout",
     "output_type": "stream",
     "text": [
      "100\n"
     ]
    }
   ],
   "source": [
    "number = 3\n",
    "\n",
    "indi_father = '/n02dat01/users/dyli/Grad_data/n04_data/Grad_tmp/sc_MPC_grad_indi/emb'\n",
    "\n",
    "list_path = f'/n02dat01/users/dyli/Grad_data/support_data/HCP_U100_list.txt'\n",
    "with open( list_path, 'r' ) as f:\n",
    "    namelist = [ str( line.strip()) for line in f.readlines() ]\n",
    "print(len(namelist))\n",
    "\n",
    "def normalization(x):\n",
    "    # return (x - np.min(x)) / (np.max(x) - np.min(x))\n",
    "    return (x - np.min(x))\n",
    "\n",
    "GC1_L = np.zeros((29696, 100))\n",
    "GC2_L = np.zeros((29696, 100))\n",
    "GC3_L = np.zeros((29696, 100))\n",
    "GC1_R = np.zeros((29716, 100))\n",
    "GC2_R = np.zeros((29716, 100))\n",
    "GC3_R = np.zeros((29716, 100))\n",
    "for subi,sub in enumerate(namelist):\n",
    "    GC1_L[:, subi] = normalization(np.load(f'/n02dat01/users/dyli/Grad_data/indi_GCs_alignment/{sub}_emb_L.npy')[:, 0])\n",
    "    GC2_L[:, subi] = normalization(np.load(f'/n02dat01/users/dyli/Grad_data/indi_GCs_alignment/{sub}_emb_L.npy')[:, 1])\n",
    "    GC3_L[:, subi] = normalization(np.load(f'/n02dat01/users/dyli/Grad_data/indi_GCs_alignment/{sub}_emb_L.npy')[:, 2])\n",
    "    GC1_R[:, subi] = normalization(np.load(f'/n02dat01/users/dyli/Grad_data/indi_GCs_alignment/{sub}_emb_R.npy')[:, 0])\n",
    "    GC2_R[:, subi] = normalization(np.load(f'/n02dat01/users/dyli/Grad_data/indi_GCs_alignment/{sub}_emb_R.npy')[:, 1])\n",
    "    GC3_R[:, subi] = normalization(np.load(f'/n02dat01/users/dyli/Grad_data/indi_GCs_alignment/{sub}_emb_R.npy')[:, 2])"
   ]
  },
  {
   "cell_type": "code",
   "execution_count": null,
   "metadata": {},
   "outputs": [],
   "source": [
    "def normalization(x):\n",
    "    return (x - np.min(x)) / (np.max(x) - np.min(x))"
   ]
  },
  {
   "cell_type": "code",
   "execution_count": 8,
   "metadata": {},
   "outputs": [],
   "source": [
    "intersub_var_GC1_L = np.std(GC1_L, axis=1) / np.mean(GC1_L, axis=1)\n",
    "np.save('/n02dat01/users/dyli/Grad_data/indi_GCs_alignment/intersub_var_GC1_L.npy', intersub_var_GC1_L)\n",
    "intersub_var_GC2_L = np.std(GC2_L, axis=1) / np.mean(GC2_L, axis=1)\n",
    "np.save('/n02dat01/users/dyli/Grad_data/indi_GCs_alignment/intersub_var_GC2_L.npy', intersub_var_GC2_L)\n",
    "intersub_var_GC3_L = np.std(GC3_L, axis=1) / np.mean(GC3_L, axis=1)\n",
    "np.save('/n02dat01/users/dyli/Grad_data/indi_GCs_alignment/intersub_var_GC3_L.npy', intersub_var_GC3_L)\n",
    "intersub_var_GC1_R = np.std(GC1_R, axis=1) / np.mean(GC1_R, axis=1)\n",
    "np.save('/n02dat01/users/dyli/Grad_data/indi_GCs_alignment/intersub_var_GC1_R.npy', intersub_var_GC1_R)\n",
    "intersub_var_GC2_R = np.std(GC2_R, axis=1) / np.mean(GC2_R, axis=1)\n",
    "np.save('/n02dat01/users/dyli/Grad_data/indi_GCs_alignment/intersub_var_GC2_R.npy', intersub_var_GC2_R)\n",
    "intersub_var_GC3_R = np.std(GC3_R, axis=1) / np.mean(GC3_R, axis=1)\n",
    "np.save('/n02dat01/users/dyli/Grad_data/indi_GCs_alignment/intersub_var_GC3_R.npy', intersub_var_GC3_R)"
   ]
  },
  {
   "cell_type": "markdown",
   "metadata": {},
   "source": [
    "# arealization for the individual"
   ]
  },
  {
   "cell_type": "markdown",
   "metadata": {},
   "source": [
    "* the group arealization path\n",
    "* ('/n02dat01/users/dyli/Grad_data/sc/pnas_8.dlabel.nii')"
   ]
  },
  {
   "cell_type": "code",
   "execution_count": 3,
   "metadata": {},
   "outputs": [
    {
     "name": "stdout",
     "output_type": "stream",
     "text": [
      "[[ 38 149 146]\n",
      " [228 111 106]]\n",
      "[[ 38 149 146]\n",
      " [ 81 104 178]\n",
      " [228 111 106]\n",
      " [135 126 206]]\n",
      "[[ 38 149 146]\n",
      " [179 128  56]\n",
      " [ 81 104 178]\n",
      " [162  55  75]\n",
      " [135 126 206]\n",
      " [198 222 163]\n",
      " [246 150  70]\n",
      " [228 111 106]]\n",
      "[[ 38 149 146]\n",
      " [179 128  56]\n",
      " [ 81 104 178]\n",
      " [162  55  75]\n",
      " [135 126 206]\n",
      " [198 222 163]\n",
      " [246 150  70]\n",
      " [228 111 106]]\n"
     ]
    }
   ],
   "source": [
    "from utils import RGB_to_Hex, Hex_to_RGB\n",
    "\n",
    "color_2_hex = ['#269592', '#E46F6A']\n",
    "color_4_hex = ['#269592', '#5168B2', '#E46F6A', '#877ECE']\n",
    "color_8_hex = ['#269592', '#B38038', '#5168B2', '#A2374B', '#877ECE', '#C6DEA3', '#F69646', '#E46F6A']\n",
    "color_20_hex = ['#e6194B', '#3cb44b', '#ffe119', '#4363d8', '#f58231', '#911eb4', '#42d4f4', '#f032e6', '#bfef45', '#fabed4', \\\n",
    "                '#469990', '#dcbeff', '#9A6324', '#fffac8', '#800000', '#aaffc3', '#808000', '#ffd8b1', '#000075', '#a9a9a9', \\\n",
    "                '#ffffff', '#000000']\n",
    "\n",
    "color_2_rgb = []\n",
    "for hexi in range(len(color_2_hex)):\n",
    "    hex_ = color_2_hex[hexi]\n",
    "    color_2_rgb.append(Hex_to_RGB(hex_))\n",
    "color_2_rgb = np.array(color_2_rgb)\n",
    "print(color_2_rgb)\n",
    "\n",
    "color_4_rgb = []\n",
    "for hexi in range(len(color_4_hex)):\n",
    "    hex_ = color_4_hex[hexi]\n",
    "    color_4_rgb.append(Hex_to_RGB(hex_))\n",
    "color_4_rgb = np.array(color_4_rgb)\n",
    "print(color_4_rgb)\n",
    "\n",
    "color_8_rgb = []\n",
    "for hexi in range(len(color_8_hex)):\n",
    "    hex_ = color_8_hex[hexi]\n",
    "    color_8_rgb.append(Hex_to_RGB(hex_))\n",
    "color_8_rgb = np.array(color_8_rgb)\n",
    "print(color_8_rgb)\n",
    "\n",
    "color_20_rgb = []\n",
    "for hexi in range(len(color_20_hex)):\n",
    "    hex_ = color_20_hex[hexi]\n",
    "    color_20_rgb.append(Hex_to_RGB(hex_))\n",
    "color_20_rgb = np.array(color_20_rgb)\n",
    "print(color_8_rgb)"
   ]
  },
  {
   "cell_type": "code",
   "execution_count": 9,
   "metadata": {},
   "outputs": [
    {
     "name": "stdout",
     "output_type": "stream",
     "text": [
      "100\n"
     ]
    },
    {
     "name": "stderr",
     "output_type": "stream",
     "text": [
      "100%|██████████| 100/100 [01:38<00:00,  1.02it/s]\n"
     ]
    }
   ],
   "source": [
    "list_path = f'/n02dat01/users/dyli/Grad_data/support_data/HCP_U100_list.txt'\n",
    "with open( list_path, 'r' ) as f:\n",
    "    namelist = [ str( line.strip()) for line in f.readlines() ]\n",
    "print(len(namelist))\n",
    "\n",
    "import matplotlib as mpl\n",
    "def bin2int(a: np.ndarray, b: np.ndarray, c: np.ndarray):\n",
    "    data = np.concatenate([a, b, c], axis=1)\n",
    "    help_arr = np.array([4, 2, 1]).T\n",
    "    output = data.dot(help_arr)\n",
    "    return output\n",
    "\n",
    "for sub in tqdm(namelist):\n",
    "    # indi_L = np.load(f'/n02dat01/users/dyli/Grad_data/n04_data/Grad_tmp/sc_MPC_grad_indi/emb/{sub}_MPC_sc_embedding_dense_emb_L.npy')[:, 0:number]\n",
    "    # indi_R = np.load(f'/n02dat01/users/dyli/Grad_data/n04_data/Grad_tmp/sc_MPC_grad_indi/emb/{sub}_MPC_sc_embedding_dense_emb_R.npy')[:, 0:number]\n",
    "\n",
    "    indi_L = np.load(f'/n02dat01/users/dyli/Grad_data/indi_GCs_alignment/{sub}_emb_L.npy')\n",
    "    indi_R = np.load(f'/n02dat01/users/dyli/Grad_data/indi_GCs_alignment/{sub}_emb_R.npy')\n",
    "\n",
    "    # 读取梯度数据\n",
    "    emb = np.zeros((59412, 3))\n",
    "    emb[0:29696, :] = indi_L[:, 0:3]\n",
    "    emb[29696:59412, :] = indi_R[:, 0:3]\n",
    "\n",
    "    # 进行层次聚类\n",
    "    idx_G1 = np.array([0 if emb[i,0]<0 else 1 for i in range(59412)])\n",
    "    idx_G2 = np.array([0 if emb[i,1]<0 else 1 for i in range(59412)])\n",
    "    idx_G3 = np.array([0 if emb[i,2]<0 else 1 for i in range(59412)])\n",
    "\n",
    "    idx = bin2int(idx_G1[:, np.newaxis], idx_G2[:, np.newaxis], idx_G3[:, np.newaxis])\n",
    "    idx +=1\n",
    "\n",
    "    # 绘制8个模块\n",
    "    L_data  = np.zeros(32492)\n",
    "    L_data[select_ind_L] = idx[0:29696]\n",
    "    R_data = np.zeros(32492)\n",
    "    R_data[select_ind_R] = idx[29696:59412]\n",
    "    Data = np.concatenate([L_data, R_data])\n",
    "\n",
    "    assert (Data >=0).all()\n",
    "\n",
    "    pos_max = np.max(Data[Data>0])\n",
    "    pos_min = np.min(Data[Data>0])\n",
    "    norm_p = mpl.colors.Normalize(vmin=pos_min, vmax=pos_max)\n",
    "\n",
    "    labelDict = {}\n",
    "    for i,p in enumerate(Data):\n",
    "        if p == 0:\n",
    "            colorValue = (174/255, 174/255, 174/255, 1.0)\n",
    "        else:\n",
    "            colorValue = (color_8_rgb[int(p-1),0]/255, \\\n",
    "                        color_8_rgb[int(p-1),1]/255, \\\n",
    "                        color_8_rgb[int(p-1),2]/255, \\\n",
    "                        1.0)\n",
    "        labelDict[p] = (i, colorValue)\n",
    "\n",
    "    newLabelAxis = nib.cifti2.cifti2_axes.LabelAxis(['aaa'], labelDict)\n",
    "\n",
    "    names = ['CIFTI_STRUCTURE_CORTEX_LEFT' for i in range(L_data.shape[0])]\n",
    "    names.extend(['CIFTI_STRUCTURE_CORTEX_RIGHT' for i in range(R_data.shape[0])])\n",
    "    verteces = [i for i in range(L_data.shape[0])]\n",
    "    verteces.extend([i for i in range(L_data.shape[0])])\n",
    "    brainModelAxis = nib.cifti2.cifti2_axes.BrainModelAxis(name=names, vertex=np.asarray(verteces),\n",
    "                                                            nvertices={'CIFTI_STRUCTURE_CORTEX_LEFT': 32492,\n",
    "                                                                        'CIFTI_STRUCTURE_CORTEX_RIGHT': 32492}, )\n",
    "    newheader = nib.cifti2.cifti2.Cifti2Header.from_axes((newLabelAxis, brainModelAxis))\n",
    "    newImage = nib.cifti2.cifti2.Cifti2Image(dataobj=Data.reshape([1, -1]), header=newheader)\n",
    "    newImage.to_filename(f'/n02dat01/users/dyli/Grad_data/indi_GCs_alignment/align_indi_corr_cluster/{sub}_pnas_8.dlabel.nii')"
   ]
  },
  {
   "cell_type": "markdown",
   "metadata": {},
   "source": [
    "# individual atlas results: calculate ICC"
   ]
  },
  {
   "cell_type": "code",
   "execution_count": 11,
   "metadata": {},
   "outputs": [],
   "source": [
    "def icc_calculate(Y, icc_type):\n",
    "    \n",
    "    [n, k] = Y.shape\n",
    "    \n",
    "    # 自由度\n",
    "    dfall = n * k - 1   # 所有自由度\n",
    "    dfe = (n - 1) * (k - 1)   # 剩余自由度\n",
    "    dfc = k - 1    # 列自由度\n",
    "    dfr = n - 1    # 行自由度\n",
    "    \n",
    "    # 所有的误差\n",
    "    mean_Y = np.mean(Y)\n",
    "    SST = ((Y - mean_Y) ** 2).sum()\n",
    "    \n",
    "    x = np.kron(np.eye(k), np.ones((n, 1)))  # sessions\n",
    "    x0 = np.tile(np.eye(n), (k, 1))  # subjects\n",
    "    X = np.hstack([x, x0])\n",
    "    \n",
    "    # 误差均方\n",
    "    predicted_Y = np.dot(\n",
    "        np.dot(np.dot(X, np.linalg.pinv(np.dot(X.T, X))), X.T), Y.flatten(\"F\")\n",
    "        )\n",
    "    residuals = Y.flatten(\"F\") - predicted_Y\n",
    "    SSE = (residuals ** 2).sum()\n",
    "    \n",
    "    MSE = SSE / dfe\n",
    "    \n",
    "    # 列均方\n",
    "    SSC = ((np.mean(Y, 0) - mean_Y) ** 2).sum() * n\n",
    "    MSC = SSC / dfc\n",
    "    \n",
    "    # 行均方\n",
    "    SSR = ((np.mean(Y, 1) - mean_Y) ** 2).sum() * k\n",
    "    MSR = SSR / dfr\n",
    "\n",
    "    print(f'MSR:{MSR}\\nMSE:{MSE}\\n')\n",
    "    \n",
    "    if icc_type == \"icc(1)\":\n",
    "        SSW = SST - SSR   # 剩余均方\n",
    "        MSW = SSW / (dfall - dfr)\n",
    "        \n",
    "        ICC1 = (MSR - MSW) / (MSR + (k - 1) * MSW)\n",
    "        ICC2 = (MSR - MSW) / MSR\n",
    "    \n",
    "    elif icc_type == \"icc(2)\":\n",
    "        \n",
    "        ICC1 = (MSR - MSE) / (MSR + (k - 1) * MSE + k * (MSC - MSE) / n)\n",
    "        ICC2 = (MSR - MSE) / (MSR +  (MSC - MSE) / n)\n",
    "        \n",
    "    elif icc_type == \"icc(3)\":\n",
    "       \n",
    "        ICC1 = (MSR - MSE) / (MSR + (k - 1) * MSE)\n",
    "        ICC2 = (MSR - MSE) / MSR\n",
    "        \n",
    "    return ICC1, ICC2\n"
   ]
  },
  {
   "cell_type": "code",
   "execution_count": 12,
   "metadata": {},
   "outputs": [
    {
     "name": "stderr",
     "output_type": "stream",
     "text": [
      "pixdim[1,2,3] should be non-zero; setting 0 dims to 1\n"
     ]
    }
   ],
   "source": [
    "dirc_L = f'/n02dat01/users/dyli/Atlas/metric_index_L.txt'\n",
    "select_ind_L = np.loadtxt( dirc_L ).astype(int)\n",
    "dirc_R = f'/n02dat01/users/dyli/Atlas/metric_index_R.txt'\n",
    "select_ind_R = np.loadtxt( dirc_R ).astype(int)\n",
    "\n",
    "# read the Yeo Atlas\n",
    "atlas_path = '/n02dat01/users/dyli/Atlas/Schaefer2018_400Parcels_17Networks_order.dlabel.nii'\n",
    "atlas = nib.load(atlas_path)\n",
    "atlas_data_ = atlas.get_fdata()\n",
    "atlas_data_ = np.squeeze(atlas_data_) #(64984,)\n",
    "atlas_data = np.zeros(59412)\n",
    "atlas_data[0:29696] = atlas_data_[select_ind_L]\n",
    "atlas_data[29696:59412] = atlas_data_[select_ind_R+32492]"
   ]
  },
  {
   "cell_type": "code",
   "execution_count": 13,
   "metadata": {},
   "outputs": [],
   "source": [
    "allsub_pnas8 = np.zeros((59412, 100))\n",
    "for subi,sub in enumerate(namelist):\n",
    "    sub_pnas8 = nib.load(f'/n02dat01/users/dyli/Grad_data/indi_GCs_alignment/align_indi_corr_cluster/{sub}_pnas_8.dlabel.nii').get_fdata()\n",
    "    sub_pnas8 = np.squeeze(sub_pnas8)\n",
    "    allsub_pnas8[:, subi] = np.concatenate((sub_pnas8[select_ind_L], sub_pnas8[select_ind_R+32492]), axis=0)"
   ]
  },
  {
   "cell_type": "code",
   "execution_count": 14,
   "metadata": {},
   "outputs": [
    {
     "name": "stdout",
     "output_type": "stream",
     "text": [
      "(400, 100)\n",
      "MSR:382.0194711152882\n",
      "MSE:0.536030682449271\n",
      "\n",
      "模型icc(1):\t\n",
      "单个测量: 0.8734115361497754\n",
      "平均测量: 0.9985527411495756\n",
      "MSR:382.0194711152882\n",
      "MSE:0.536030682449271\n",
      "\n",
      "模型icc(2):\t\n",
      "单个测量: 0.8730780674323466\n",
      "平均测量: 0.998548380780842\n",
      "MSR:382.0194711152882\n",
      "MSE:0.536030682449271\n",
      "\n",
      "模型icc(3):\t\n",
      "单个测量: 0.8767990567948715\n",
      "平均测量: 0.9985968498388724\n"
     ]
    }
   ],
   "source": [
    "allsub_pnas8_atlas = np.array([np.sum(allsub_pnas8[atlas_data==(i+1)], axis=0)/len(np.argwhere(atlas_data==(i+1))) for i in range(400)])\n",
    "allsub_pnas8_atlas = allsub_pnas8_atlas.astype(np.int16)\n",
    "\n",
    "icc_data = allsub_pnas8_atlas\n",
    "\n",
    "print(icc_data.shape)\n",
    "icc_type = \"icc(1)\"\n",
    "icc1, icc2 = icc_calculate(icc_data, icc_type)\n",
    "print('模型{}:\\t'.format(icc_type))\n",
    "print('单个测量:', icc1)\n",
    "print('平均测量:', icc2)\n",
    "icc_type = \"icc(2)\"\n",
    "icc1, icc2 = icc_calculate(icc_data, icc_type)\n",
    "print('模型{}:\\t'.format(icc_type))\n",
    "print('单个测量:', icc1)\n",
    "print('平均测量:', icc2)\n",
    "icc_type = \"icc(3)\"\n",
    "icc1, icc2 = icc_calculate(icc_data, icc_type)\n",
    "print('模型{}:\\t'.format(icc_type))\n",
    "print('单个测量:', icc1)\n",
    "print('平均测量:', icc2)"
   ]
  },
  {
   "cell_type": "markdown",
   "metadata": {},
   "source": []
  },
  {
   "cell_type": "markdown",
   "metadata": {},
   "source": []
  },
  {
   "cell_type": "markdown",
   "metadata": {},
   "source": [
    "# test"
   ]
  },
  {
   "cell_type": "code",
   "execution_count": 11,
   "metadata": {},
   "outputs": [
    {
     "name": "stdout",
     "output_type": "stream",
     "text": [
      "[[-1.14187401e-05  3.61477472e-01 -3.84762865e-01  1.36728973e-02\n",
      "   3.58294643e-01]\n",
      " [-4.22691648e-01  2.09267759e-01 -1.36180095e-01 -2.29398287e-01\n",
      "   1.50752896e-01]\n",
      " [ 1.41632613e-02 -2.80191593e-01 -2.71907600e-02  6.33706178e-03\n",
      "   4.42680099e-01]\n",
      " [ 2.22625908e-01  2.83204544e-01 -1.82679151e-01  2.60740691e-01\n",
      "   1.06689927e-01]\n",
      " [ 2.35938755e-01  2.43725357e-01  4.58710752e-01 -4.40339287e-01\n",
      "   1.55175231e-01]]\n",
      "remove the neg connection\n",
      "[[0.         0.36147747 0.         0.0136729  0.35829464]\n",
      " [0.         0.20926776 0.         0.         0.1507529 ]\n",
      " [0.01416326 0.         0.         0.00633706 0.4426801 ]\n",
      " [0.22262591 0.28320454 0.         0.26074069 0.10668993]\n",
      " [0.23593876 0.24372536 0.45871075 0.         0.15517523]]\n",
      "70\n",
      "[[0.         0.36147747 0.         0.         0.35829464]\n",
      " [0.         0.20926776 0.         0.         0.1507529 ]\n",
      " [0.01416326 0.         0.         0.         0.4426801 ]\n",
      " [0.         0.28320454 0.         0.26074069 0.        ]\n",
      " [0.         0.24372536 0.45871075 0.         0.        ]]\n"
     ]
    }
   ],
   "source": [
    "mpc = np.random.rand(5,5) -0.5\n",
    "print(mpc)\n",
    "\n",
    "# 去除负连接\n",
    "print('remove the neg connection')\n",
    "mpc[mpc<0] = 0\n",
    "print(mpc)\n",
    "\n",
    "sparse_idx=70\n",
    "print(sparse_idx)\n",
    "# 稀疏\n",
    "# mpc = mpc.astype(np.float32)\n",
    "perc_L = np.array([np.percentile(x, sparse_idx) for x in mpc])\n",
    "for i in range(mpc.shape[0]):\n",
    "    mpc[i, mpc[i,:] < perc_L[i]] = 0\n",
    "print(mpc)"
   ]
  }
 ],
 "metadata": {
  "kernelspec": {
   "display_name": "Python 3",
   "language": "python",
   "name": "python3"
  },
  "language_info": {
   "codemirror_mode": {
    "name": "ipython",
    "version": 3
   },
   "file_extension": ".py",
   "mimetype": "text/x-python",
   "name": "python",
   "nbconvert_exporter": "python",
   "pygments_lexer": "ipython3",
   "version": "3.8.12"
  }
 },
 "nbformat": 4,
 "nbformat_minor": 2
}
