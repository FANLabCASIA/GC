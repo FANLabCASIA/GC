{
 "cells": [
  {
   "cell_type": "code",
   "execution_count": 3,
   "metadata": {},
   "outputs": [],
   "source": [
    "import os\n",
    "import gc\n",
    "import sys\n",
    "import time\n",
    "import h5py\n",
    "import numpy as np\n",
    "import pandas as pd\n",
    "from numpy.lib.function_base import corrcoef\n",
    "import nibabel as nib\n",
    "from nilearn import image, surface, plotting, datasets\n",
    "\n",
    "from sklearn.metrics import pairwise_distances\n",
    "import scipy.sparse as sps\n",
    "import scipy as sp\n",
    "from scipy.sparse.linalg import eigsh, eigs\n",
    "from tqdm import tqdm\n",
    "import matplotlib.pyplot as plt\n",
    "from matplotlib import cm\n",
    "from matplotlib.colors import ListedColormap, LinearSegmentedColormap"
   ]
  },
  {
   "cell_type": "code",
   "execution_count": 2,
   "metadata": {},
   "outputs": [
    {
     "name": "stdout",
     "output_type": "stream",
     "text": [
      "read the tractogram data(group)...\n"
     ]
    }
   ],
   "source": [
    "print('read the tractogram data(group)...')\n",
    "reg = sps.load_npz('/n02dat01/users/yfwang/dyli/group_SC/reg_L.npz')\n",
    "reg = reg.toarray().astype(np.float32)\n",
    "print(reg.shape)\n",
    "print('finished!')"
   ]
  },
  {
   "cell_type": "code",
   "execution_count": null,
   "metadata": {},
   "outputs": [],
   "source": [
    "mpc = np.loadtxt('/n02dat01/users/dyli/Grad_data/sc/MPC_Grad_results/MPC_sc_L.txt')"
   ]
  },
  {
   "cell_type": "code",
   "execution_count": 2,
   "metadata": {},
   "outputs": [
    {
     "data": {
      "text/html": [
       "<div>\n",
       "<style scoped>\n",
       "    .dataframe tbody tr th:only-of-type {\n",
       "        vertical-align: middle;\n",
       "    }\n",
       "\n",
       "    .dataframe tbody tr th {\n",
       "        vertical-align: top;\n",
       "    }\n",
       "\n",
       "    .dataframe thead th {\n",
       "        text-align: right;\n",
       "    }\n",
       "</style>\n",
       "<table border=\"1\" class=\"dataframe\">\n",
       "  <thead>\n",
       "    <tr style=\"text-align: right;\">\n",
       "      <th></th>\n",
       "      <th>Subject</th>\n",
       "      <th>Gender</th>\n",
       "      <th>Age_in_Yrs</th>\n",
       "      <th>Handedness</th>\n",
       "      <th>Race</th>\n",
       "    </tr>\n",
       "  </thead>\n",
       "  <tbody>\n",
       "    <tr>\n",
       "      <th>0</th>\n",
       "      <td>100004</td>\n",
       "      <td>M</td>\n",
       "      <td>24</td>\n",
       "      <td>95</td>\n",
       "      <td>White</td>\n",
       "    </tr>\n",
       "    <tr>\n",
       "      <th>1</th>\n",
       "      <td>100206</td>\n",
       "      <td>M</td>\n",
       "      <td>27</td>\n",
       "      <td>65</td>\n",
       "      <td>White</td>\n",
       "    </tr>\n",
       "    <tr>\n",
       "      <th>2</th>\n",
       "      <td>100307</td>\n",
       "      <td>F</td>\n",
       "      <td>27</td>\n",
       "      <td>95</td>\n",
       "      <td>White</td>\n",
       "    </tr>\n",
       "    <tr>\n",
       "      <th>3</th>\n",
       "      <td>100408</td>\n",
       "      <td>M</td>\n",
       "      <td>33</td>\n",
       "      <td>55</td>\n",
       "      <td>White</td>\n",
       "    </tr>\n",
       "    <tr>\n",
       "      <th>4</th>\n",
       "      <td>100610</td>\n",
       "      <td>M</td>\n",
       "      <td>27</td>\n",
       "      <td>85</td>\n",
       "      <td>White</td>\n",
       "    </tr>\n",
       "    <tr>\n",
       "      <th>...</th>\n",
       "      <td>...</td>\n",
       "      <td>...</td>\n",
       "      <td>...</td>\n",
       "      <td>...</td>\n",
       "      <td>...</td>\n",
       "    </tr>\n",
       "    <tr>\n",
       "      <th>1201</th>\n",
       "      <td>992774</td>\n",
       "      <td>M</td>\n",
       "      <td>35</td>\n",
       "      <td>100</td>\n",
       "      <td>White</td>\n",
       "    </tr>\n",
       "    <tr>\n",
       "      <th>1202</th>\n",
       "      <td>993675</td>\n",
       "      <td>F</td>\n",
       "      <td>29</td>\n",
       "      <td>85</td>\n",
       "      <td>White</td>\n",
       "    </tr>\n",
       "    <tr>\n",
       "      <th>1203</th>\n",
       "      <td>994273</td>\n",
       "      <td>M</td>\n",
       "      <td>30</td>\n",
       "      <td>60</td>\n",
       "      <td>White</td>\n",
       "    </tr>\n",
       "    <tr>\n",
       "      <th>1204</th>\n",
       "      <td>995174</td>\n",
       "      <td>M</td>\n",
       "      <td>25</td>\n",
       "      <td>100</td>\n",
       "      <td>White</td>\n",
       "    </tr>\n",
       "    <tr>\n",
       "      <th>1205</th>\n",
       "      <td>996782</td>\n",
       "      <td>F</td>\n",
       "      <td>28</td>\n",
       "      <td>100</td>\n",
       "      <td>White</td>\n",
       "    </tr>\n",
       "  </tbody>\n",
       "</table>\n",
       "<p>1206 rows × 5 columns</p>\n",
       "</div>"
      ],
      "text/plain": [
       "      Subject Gender  Age_in_Yrs  Handedness   Race\n",
       "0      100004      M          24          95  White\n",
       "1      100206      M          27          65  White\n",
       "2      100307      F          27          95  White\n",
       "3      100408      M          33          55  White\n",
       "4      100610      M          27          85  White\n",
       "...       ...    ...         ...         ...    ...\n",
       "1201   992774      M          35         100  White\n",
       "1202   993675      F          29          85  White\n",
       "1203   994273      M          30          60  White\n",
       "1204   995174      M          25         100  White\n",
       "1205   996782      F          28         100  White\n",
       "\n",
       "[1206 rows x 5 columns]"
      ]
     },
     "execution_count": 2,
     "metadata": {},
     "output_type": "execute_result"
    }
   ],
   "source": [
    "_1 = pd.read_csv('/n02dat01/users/dyli/HCP_behavior_data/HCP_s1200.csv') # Subject\n",
    "_2 = pd.read_csv('/n02dat01/users/dyli/HCP_behavior_data/RESTRICTED_s1200_calculated.csv')\n",
    "basic_info = pd.merge(_1, _2, left_on = 'Subject', right_on = 'Subject').loc[:,['Subject', 'Gender', 'Age_in_Yrs', 'Handedness', 'Race']]\n",
    "basic_info"
   ]
  },
  {
   "cell_type": "code",
   "execution_count": 17,
   "metadata": {},
   "outputs": [
    {
     "name": "stdout",
     "output_type": "stream",
     "text": [
      "100\n"
     ]
    },
    {
     "data": {
      "text/html": [
       "<div>\n",
       "<style scoped>\n",
       "    .dataframe tbody tr th:only-of-type {\n",
       "        vertical-align: middle;\n",
       "    }\n",
       "\n",
       "    .dataframe tbody tr th {\n",
       "        vertical-align: top;\n",
       "    }\n",
       "\n",
       "    .dataframe thead th {\n",
       "        text-align: right;\n",
       "    }\n",
       "</style>\n",
       "<table border=\"1\" class=\"dataframe\">\n",
       "  <thead>\n",
       "    <tr style=\"text-align: right;\">\n",
       "      <th></th>\n",
       "      <th>Subject</th>\n",
       "      <th>Gender</th>\n",
       "      <th>Age_in_Yrs</th>\n",
       "      <th>Handedness</th>\n",
       "      <th>Race</th>\n",
       "    </tr>\n",
       "  </thead>\n",
       "  <tbody>\n",
       "    <tr>\n",
       "      <th>0</th>\n",
       "      <td>100307</td>\n",
       "      <td>F</td>\n",
       "      <td>27</td>\n",
       "      <td>95</td>\n",
       "      <td>White</td>\n",
       "    </tr>\n",
       "    <tr>\n",
       "      <th>1</th>\n",
       "      <td>100408</td>\n",
       "      <td>M</td>\n",
       "      <td>33</td>\n",
       "      <td>55</td>\n",
       "      <td>White</td>\n",
       "    </tr>\n",
       "    <tr>\n",
       "      <th>2</th>\n",
       "      <td>101107</td>\n",
       "      <td>M</td>\n",
       "      <td>22</td>\n",
       "      <td>5</td>\n",
       "      <td>White</td>\n",
       "    </tr>\n",
       "    <tr>\n",
       "      <th>3</th>\n",
       "      <td>101309</td>\n",
       "      <td>M</td>\n",
       "      <td>29</td>\n",
       "      <td>45</td>\n",
       "      <td>Black or African Am.</td>\n",
       "    </tr>\n",
       "    <tr>\n",
       "      <th>4</th>\n",
       "      <td>101915</td>\n",
       "      <td>F</td>\n",
       "      <td>35</td>\n",
       "      <td>-75</td>\n",
       "      <td>White</td>\n",
       "    </tr>\n",
       "    <tr>\n",
       "      <th>...</th>\n",
       "      <td>...</td>\n",
       "      <td>...</td>\n",
       "      <td>...</td>\n",
       "      <td>...</td>\n",
       "      <td>...</td>\n",
       "    </tr>\n",
       "    <tr>\n",
       "      <th>95</th>\n",
       "      <td>756055</td>\n",
       "      <td>M</td>\n",
       "      <td>25</td>\n",
       "      <td>-80</td>\n",
       "      <td>Black or African Am.</td>\n",
       "    </tr>\n",
       "    <tr>\n",
       "      <th>96</th>\n",
       "      <td>792564</td>\n",
       "      <td>F</td>\n",
       "      <td>31</td>\n",
       "      <td>90</td>\n",
       "      <td>White</td>\n",
       "    </tr>\n",
       "    <tr>\n",
       "      <th>97</th>\n",
       "      <td>856766</td>\n",
       "      <td>F</td>\n",
       "      <td>33</td>\n",
       "      <td>80</td>\n",
       "      <td>White</td>\n",
       "    </tr>\n",
       "    <tr>\n",
       "      <th>98</th>\n",
       "      <td>857263</td>\n",
       "      <td>M</td>\n",
       "      <td>22</td>\n",
       "      <td>-100</td>\n",
       "      <td>Black or African Am.</td>\n",
       "    </tr>\n",
       "    <tr>\n",
       "      <th>99</th>\n",
       "      <td>899885</td>\n",
       "      <td>F</td>\n",
       "      <td>26</td>\n",
       "      <td>-40</td>\n",
       "      <td>White</td>\n",
       "    </tr>\n",
       "  </tbody>\n",
       "</table>\n",
       "<p>100 rows × 5 columns</p>\n",
       "</div>"
      ],
      "text/plain": [
       "    Subject Gender  Age_in_Yrs  Handedness                  Race\n",
       "0    100307      F          27          95                 White\n",
       "1    100408      M          33          55                 White\n",
       "2    101107      M          22           5                 White\n",
       "3    101309      M          29          45  Black or African Am.\n",
       "4    101915      F          35         -75                 White\n",
       "..      ...    ...         ...         ...                   ...\n",
       "95   756055      M          25         -80  Black or African Am.\n",
       "96   792564      F          31          90                 White\n",
       "97   856766      F          33          80                 White\n",
       "98   857263      M          22        -100  Black or African Am.\n",
       "99   899885      F          26         -40                 White\n",
       "\n",
       "[100 rows x 5 columns]"
      ]
     },
     "execution_count": 17,
     "metadata": {},
     "output_type": "execute_result"
    }
   ],
   "source": [
    "list_path = f'/n02dat01/users/dyli/Grad_data/support_data/HCP_U100_list.txt'\n",
    "with open( list_path, 'r' ) as f:\n",
    "    namelist = [ str( line.strip()) for line in f.readlines() ]\n",
    "print(len(namelist))\n",
    "\n",
    "namelist_df = pd.DataFrame(namelist, columns=['Subject'], dtype=np.int32)\n",
    "namelist_basic_info = pd.merge(namelist_df, basic_info, left_on='Subject', right_on='Subject')\n",
    "namelist_basic_info"
   ]
  },
  {
   "cell_type": "code",
   "execution_count": 18,
   "metadata": {},
   "outputs": [],
   "source": [
    "np.save('/n02dat01/users/dyli/HCP_behavior_data/HCP_U100_age.npy', np.array(namelist_basic_info['Age_in_Yrs']))"
   ]
  },
  {
   "cell_type": "code",
   "execution_count": 23,
   "metadata": {},
   "outputs": [
    {
     "name": "stdout",
     "output_type": "stream",
     "text": [
      "[2 1 1 1 2 1 2 2 2 1 2 1 1 2 2 2 1 1 2 1 2 2 1 1 2 1 1 1 2 2 2 2 2 1 2 2 1\n",
      " 1 2 2 2 2 1 2 2 1 1 2 2 2 1 2 2 2 1 1 1 2 1 2 2 1 1 1 1 2 2 1 2 1 2 1 2 2\n",
      " 2 1 1 1 2 1 1 2 1 2 2 2 2 2 1 1 1 2 2 1 1 1 2 2 1 2]\n"
     ]
    }
   ],
   "source": [
    "gender_list = list(namelist_basic_info['Gender'])\n",
    "gender_array = []\n",
    "for _ in range(100):\n",
    "    if gender_list[_]=='F': gender_array.append(2)\n",
    "    else: gender_array.append(1)\n",
    "print(np.array(gender_array))\n",
    "np.save('/n02dat01/users/dyli/HCP_behavior_data/HCP_U100_gender.npy', np.array(gender_array))"
   ]
  },
  {
   "cell_type": "code",
   "execution_count": null,
   "metadata": {},
   "outputs": [],
   "source": [
    "# import statsmodels.api as sm\n",
    "# import scipy.stats as st\n",
    "# import sklearn\n",
    "\n",
    "# for sub in namelist:\n",
    "#     mpc_sub = h5py.File(f'/n02dat01/users/dyli/Grad_data/sc/SC_MPC_U100/{sub}_L_MPC.mat')\n",
    "\n",
    "# for tt in range(y_data.shape[1]):\n",
    "#     y = y_data[:, tt] # (2067, )\n",
    "#     x = basic_data # (2067, 2)\n",
    "\n",
    "#     model = sklearn.linear_model.LinearRegression()\n",
    "#     y[np.isnan(y)] = 0\n",
    "#     model.fit(x, y)\n",
    "#     y_pred = model.predict(x)\n",
    "#     y_data_reg[:, tt] = y - y_pred"
   ]
  },
  {
   "cell_type": "markdown",
   "metadata": {},
   "source": [
    "# gender"
   ]
  },
  {
   "cell_type": "code",
   "execution_count": 8,
   "metadata": {},
   "outputs": [
    {
     "name": "stdout",
     "output_type": "stream",
     "text": [
      "100\n"
     ]
    },
    {
     "name": "stderr",
     "output_type": "stream",
     "text": [
      "100it [3:27:35, 124.56s/it]\n"
     ]
    }
   ],
   "source": [
    "list_path = f'/n02dat01/users/dyli/Grad_data/support_data/HCP_U100_list.txt'\n",
    "with open( list_path, 'r' ) as f:\n",
    "    namelist = [ str( line.strip()) for line in f.readlines() ]\n",
    "print(len(namelist))\n",
    "\n",
    "gender_info = np.load('/n02dat01/users/dyli/HCP_behavior_data/HCP_U100_gender.npy')\n",
    "\n",
    "mpc_female = np.zeros((29696, 29696)).astype(np.float32)\n",
    "mpc_male = np.zeros((29696, 29696)).astype(np.float32)\n",
    "\n",
    "for subi, sub in tqdm(enumerate(namelist)):\n",
    "    mpc_ = h5py.File(f'/n02dat01/users/dyli/Grad_data/sc/SC_MPC_U100/{sub}_L_MPC.mat')\n",
    "    mpc_sub = mpc_['MPCi']\n",
    "    if gender_info[subi] == 2:\n",
    "        mpc_female = mpc_female + mpc_sub\n",
    "    elif gender_info[subi] ==1:\n",
    "        mpc_male = mpc_male + mpc_sub\n",
    "\n",
    "np.save('/n02dat01/users/dyli/Grad_data/sc/HCP_U100_mpc_female.npy', mpc_female/len(np.argwhere(gender_info==2)))\n",
    "np.save('/n02dat01/users/dyli/Grad_data/sc/HCP_U100_mpc_male.npy', mpc_male/len(np.argwhere(gender_info==1)))"
   ]
  },
  {
   "cell_type": "code",
   "execution_count": 9,
   "metadata": {},
   "outputs": [],
   "source": [
    "r = np.corrcoef(mpc_female.flatten(), mpc_male.flatten())"
   ]
  },
  {
   "cell_type": "code",
   "execution_count": 11,
   "metadata": {},
   "outputs": [
    {
     "data": {
      "text/plain": [
       "array([[1.       , 0.9945354],\n",
       "       [0.9945354, 1.       ]])"
      ]
     },
     "execution_count": 11,
     "metadata": {},
     "output_type": "execute_result"
    }
   ],
   "source": [
    "r"
   ]
  },
  {
   "cell_type": "markdown",
   "metadata": {},
   "source": [
    "# age"
   ]
  },
  {
   "cell_type": "code",
   "execution_count": 15,
   "metadata": {},
   "outputs": [
    {
     "name": "stderr",
     "output_type": "stream",
     "text": [
      "/n01dat01/dyli/soft/miniconda3/envs/pynb/lib/python3.8/site-packages/seaborn/distributions.py:2619: FutureWarning: `distplot` is a deprecated function and will be removed in a future version. Please adapt your code to use either `displot` (a figure-level function with similar flexibility) or `histplot` (an axes-level function for histograms).\n",
      "  warnings.warn(msg, FutureWarning)\n"
     ]
    },
    {
     "data": {
      "image/png": "[encoded data removed]",
      "text/plain": [
       "<Figure size 864x576 with 1 Axes>"
      ]
     },
     "metadata": {
      "needs_background": "light"
     },
     "output_type": "display_data"
    }
   ],
   "source": [
    "import seaborn as sns\n",
    "\n",
    "age_info = np.load('/n02dat01/users/dyli/HCP_behavior_data/HCP_U100_age.npy')\n",
    "\n",
    "plt.figure(figsize=(12, 8))  #设置画布的大小\n",
    "# sns.set_palette(\"hls\")       #设置所有图的颜色，使用hls色彩空间\n",
    "sns.distplot(age_info,color=\"steelblue\",bins=10,norm_hist=False, kde=False)\n",
    "# plt.xlim([10,1200])\n",
    "plt.xlabel('Age',fontsize=20)           #添加x轴标签，并改变字体\n",
    "plt.ylabel('Probability (%)',fontsize=20)   #添加y轴变浅，并改变字体\n",
    "plt.grid(linestyle='-')   #添加网格线\n",
    "plt.xticks(fontsize=20)   #改变x轴字体大小\n",
    "plt.yticks(fontsize=20)   #改变y轴字体大小\n",
    "sns.despine(ax=None, top=True, right=True, left=True,bottom=True)    #将图像的框框删掉\n",
    "plt.show()"
   ]
  },
  {
   "cell_type": "code",
   "execution_count": 6,
   "metadata": {},
   "outputs": [
    {
     "name": "stdout",
     "output_type": "stream",
     "text": [
      "100\n",
      "17 -40 -42 -1\n"
     ]
    }
   ],
   "source": [
    "list_path = f'/n02dat01/users/dyli/Grad_data/support_data/HCP_U100_list.txt'\n",
    "with open( list_path, 'r' ) as f:\n",
    "    namelist = [ str( line.strip()) for line in f.readlines() ]\n",
    "print(len(namelist))\n",
    "\n",
    "age_info = np.load('/n02dat01/users/dyli/HCP_behavior_data/HCP_U100_age.npy')\n",
    "\n",
    "x1 = len(np.argwhere(age_info<25.5))\n",
    "x2 = (len(np.argwhere(age_info<25.5))) - len(np.argwhere(age_info<30.5))\n",
    "x3 = (len(np.argwhere(age_info<30.5))) - len(np.argwhere(age_info<35.5))\n",
    "x4 = (len(np.argwhere(age_info<35.5))) - len(np.argwhere(age_info<40))\n",
    "print(x1, x2, x3, x4)"
   ]
  },
  {
   "cell_type": "code",
   "execution_count": 6,
   "metadata": {},
   "outputs": [
    {
     "name": "stdout",
     "output_type": "stream",
     "text": [
      "100\n"
     ]
    },
    {
     "name": "stderr",
     "output_type": "stream",
     "text": [
      "100it [3:23:43, 122.24s/it]\n"
     ]
    }
   ],
   "source": [
    "list_path = f'/n02dat01/users/dyli/Grad_data/support_data/HCP_U100_list.txt'\n",
    "with open( list_path, 'r' ) as f:\n",
    "    namelist = [ str( line.strip()) for line in f.readlines() ]\n",
    "print(len(namelist))\n",
    "\n",
    "age_info = np.load('/n02dat01/users/dyli/HCP_behavior_data/HCP_U100_age.npy')\n",
    "\n",
    "mpc_1 = np.zeros((29696, 29696)).astype(np.float32) # (20, 25)\n",
    "mpc_2 = np.zeros((29696, 29696)).astype(np.float32) # (25, 30)\n",
    "mpc_3 = np.zeros((29696, 29696)).astype(np.float32) # (30, 35)\n",
    "mpc_4 = np.zeros((29696, 29696)).astype(np.float32) # (35, 40)\n",
    "\n",
    "for subi, sub in tqdm(enumerate(namelist)):\n",
    "    mpc_ = h5py.File(f'/n02dat01/users/dyli/Grad_data/sc/SC_MPC_U100/{sub}_L_MPC.mat')\n",
    "    mpc_sub = mpc_['MPCi']\n",
    "    if age_info[subi]<25:\n",
    "        mpc_1 = mpc_1 + mpc_sub\n",
    "    elif age_info[subi]<30:\n",
    "        mpc_2 = mpc_2 + mpc_sub\n",
    "    elif age_info[subi]<35:\n",
    "        mpc_3 = mpc_3 + mpc_sub\n",
    "    elif age_info[subi]<40:\n",
    "        mpc_4 = mpc_4 + mpc_sub\n",
    "    else:\n",
    "        sys.exit()\n",
    "\n",
    "np.save('/n02dat01/users/dyli/Grad_data/sc/HCP_U100_mpc_agebin_1.npy', mpc_1/len(np.argwhere(age_info<25)))\n",
    "np.save('/n02dat01/users/dyli/Grad_data/sc/HCP_U100_mpc_agebin_2.npy', mpc_2/(len(np.argwhere(age_info<25))) - len(np.argwhere(age_info<30)))\n",
    "np.save('/n02dat01/users/dyli/Grad_data/sc/HCP_U100_mpc_agebin_3.npy', mpc_3/(len(np.argwhere(age_info<30))) - len(np.argwhere(age_info<35)))\n",
    "np.save('/n02dat01/users/dyli/Grad_data/sc/HCP_U100_mpc_agebin_4.npy', mpc_4/(len(np.argwhere(age_info<35))) - len(np.argwhere(age_info<40)))"
   ]
  },
  {
   "cell_type": "code",
   "execution_count": 21,
   "metadata": {},
   "outputs": [],
   "source": [
    "mpc_1 = np.load('/n02dat01/users/dyli/Grad_data/sc/HCP_U100_mpc_agebin_1.npy')\n",
    "mpc_2 = np.load('/n02dat01/users/dyli/Grad_data/sc/HCP_U100_mpc_agebin_2.npy')\n",
    "mpc_3 = np.load('/n02dat01/users/dyli/Grad_data/sc/HCP_U100_mpc_agebin_3.npy')"
   ]
  },
  {
   "cell_type": "code",
   "execution_count": 22,
   "metadata": {},
   "outputs": [
    {
     "data": {
      "image/png": "[encoded data removed]",
      "text/plain": [
       "<Figure size 432x360 with 2 Axes>"
      ]
     },
     "metadata": {
      "needs_background": "light"
     },
     "output_type": "display_data"
    }
   ],
   "source": [
    "import seaborn as sns\n",
    "\n",
    "# left\n",
    "results = np.zeros((3,3))\n",
    "results[0,1] = np.corrcoef(mpc_1.flatten(), mpc_2.flatten())[0,1]\n",
    "results[0,2] = np.corrcoef(mpc_1.flatten(), mpc_3.flatten())[0,1]\n",
    "results[1,2] = np.corrcoef(mpc_2.flatten(), mpc_3.flatten())[0,1]\n",
    "\n",
    "results[results==0] = np.nan\n",
    "df = pd.DataFrame(results, index=['20-25','25-30','30-35'])\n",
    "\n",
    "f, ax= plt.subplots(figsize = (6, 5))\n",
    "fig = sns.heatmap(df, \n",
    "                  cmap='YlGnBu_r', \n",
    "                  vmin=0.5, \n",
    "                  vmax=1, \n",
    "                  cbar=False, \n",
    "                  annot=True, \n",
    "                  annot_kws={'size':15})\n",
    "cb = fig.figure.colorbar(fig.collections[0]) #显示colorbar\n",
    "cb.ax.tick_params(labelsize=15) #设置colorbar刻度字体大小\n",
    "ax.tick_params(labelsize=15)\n",
    "# ax.set_xticklabels(ax.get_xticklabels(), rotation=0, ha = 'right')\n",
    "# ax.set_yticklabels(ax.get_yticklabels(), rotation=0, ha = 'right')\n",
    "fig = fig.get_figure()\n",
    "plt.xticks(fontsize=20)\n",
    "plt.yticks(fontsize=20)\n",
    "plt.ylabel('age range (y)')\n",
    "plt.show()"
   ]
  },
  {
   "cell_type": "code",
   "execution_count": 23,
   "metadata": {},
   "outputs": [
    {
     "data": {
      "image/png": "[encoded data removed]",
      "text/plain": [
       "<Figure size 432x360 with 2 Axes>"
      ]
     },
     "metadata": {
      "needs_background": "light"
     },
     "output_type": "display_data"
    }
   ],
   "source": [
    "f, ax= plt.subplots(figsize = (6, 5))\n",
    "fig = sns.heatmap(df, \n",
    "                  cmap='YlGnBu_r', \n",
    "                  vmin=0.5, \n",
    "                  vmax=1, \n",
    "                  cbar=False, \n",
    "                  annot=True, \n",
    "                  annot_kws={'size':15})\n",
    "cb = fig.figure.colorbar(fig.collections[0]) #显示colorbar\n",
    "cb.ax.tick_params(labelsize=15) #设置colorbar刻度字体大小\n",
    "ax.tick_params(labelsize=15)\n",
    "# ax.set_xticklabels(ax.get_xticklabels(), rotation=0, ha = 'right')\n",
    "# ax.set_yticklabels(ax.get_yticklabels(), rotation=0, ha = 'right')\n",
    "fig = fig.get_figure()\n",
    "plt.xticks(fontsize=20)\n",
    "plt.yticks(fontsize=20)\n",
    "plt.ylabel('age range (y)', fontsize=20)\n",
    "plt.show()"
   ]
  },
  {
   "cell_type": "markdown",
   "metadata": {},
   "source": [
    "# eTIV"
   ]
  },
  {
   "cell_type": "code",
   "execution_count": 9,
   "metadata": {},
   "outputs": [
    {
     "name": "stdout",
     "output_type": "stream",
     "text": [
      "1973702.153344 1083055.083886\n"
     ]
    },
    {
     "name": "stderr",
     "output_type": "stream",
     "text": [
      "/n01dat01/dyli/soft/miniconda3/envs/pynb/lib/python3.8/site-packages/seaborn/distributions.py:2619: FutureWarning: `distplot` is a deprecated function and will be removed in a future version. Please adapt your code to use either `displot` (a figure-level function with similar flexibility) or `histplot` (an axes-level function for histograms).\n",
      "  warnings.warn(msg, FutureWarning)\n"
     ]
    },
    {
     "data": {
      "image/png": "[encoded data removed]",
      "text/plain": [
       "<Figure size 864x576 with 1 Axes>"
      ]
     },
     "metadata": {
      "needs_background": "light"
     },
     "output_type": "display_data"
    }
   ],
   "source": [
    "etiv_info = np.loadtxt('/n02dat01/users/dyli/HCP_behavior_data/HCP_U100_eTIV.txt')\n",
    "print(np.max(etiv_info), np.min(etiv_info))\n",
    "\n",
    "plt.figure(figsize=(12, 8))  #设置画布的大小\n",
    "# sns.set_palette(\"hls\")       #设置所有图的颜色，使用hls色彩空间\n",
    "sns.distplot(etiv_info,color=\"steelblue\",bins=10,norm_hist=False, kde=False)\n",
    "# plt.xlim([10,1200])\n",
    "plt.xlabel('eTIV',fontsize=20)           #添加x轴标签，并改变字体\n",
    "plt.ylabel('Probability (%)',fontsize=20)   #添加y轴变浅，并改变字体\n",
    "plt.grid(linestyle='-')   #添加网格线\n",
    "plt.xticks(fontsize=20)   #改变x轴字体大小\n",
    "plt.yticks(fontsize=20)   #改变y轴字体大小\n",
    "sns.despine(ax=None, top=True, right=True, left=True,bottom=True)    #将图像的框框删掉\n",
    "plt.show()"
   ]
  },
  {
   "cell_type": "code",
   "execution_count": 8,
   "metadata": {},
   "outputs": [
    {
     "name": "stdout",
     "output_type": "stream",
     "text": [
      "1.973702153344 1.083055083886\n",
      "3 12 38 40 7\n"
     ]
    }
   ],
   "source": [
    "etiv_info = np.loadtxt('/n02dat01/users/dyli/HCP_behavior_data/HCP_U100_eTIV.txt')/1e6\n",
    "print(np.max(etiv_info), np.min(etiv_info))\n",
    "\n",
    "x1 = len(np.argwhere(etiv_info<1.2))\n",
    "x2 = (len(np.argwhere(etiv_info<1.4))) - len(np.argwhere(etiv_info<1.2))\n",
    "x3 = (len(np.argwhere(etiv_info<1.6))) - len(np.argwhere(etiv_info<1.4))\n",
    "x4 = (len(np.argwhere(etiv_info<1.8))) - len(np.argwhere(etiv_info<1.6))\n",
    "x5 = (len(np.argwhere(etiv_info<2.0))) - len(np.argwhere(etiv_info<1.8))\n",
    "print(x1,x2,x3,x4,x5)"
   ]
  },
  {
   "cell_type": "code",
   "execution_count": 2,
   "metadata": {},
   "outputs": [
    {
     "name": "stdout",
     "output_type": "stream",
     "text": [
      "100\n"
     ]
    },
    {
     "name": "stderr",
     "output_type": "stream",
     "text": [
      "100it [3:24:09, 122.50s/it]\n"
     ]
    }
   ],
   "source": [
    "list_path = f'/n02dat01/users/dyli/Grad_data/support_data/HCP_U100_list.txt'\n",
    "with open( list_path, 'r' ) as f:\n",
    "    namelist = [ str( line.strip()) for line in f.readlines() ]\n",
    "print(len(namelist))\n",
    "\n",
    "etiv_info = np.loadtxt('/n02dat01/users/dyli/HCP_behavior_data/HCP_U100_eTIV.txt')/1e6\n",
    "\n",
    "mpc_1 = np.zeros((29696, 29696)).astype(np.float32) # (1.0, 1.2)\n",
    "mpc_2 = np.zeros((29696, 29696)).astype(np.float32) # (1.2, 1.4)\n",
    "mpc_3 = np.zeros((29696, 29696)).astype(np.float32) # (1.4, 1.6)\n",
    "mpc_4 = np.zeros((29696, 29696)).astype(np.float32) # (1.6, 1.8)\n",
    "mpc_5 = np.zeros((29696, 29696)).astype(np.float32) # (1.8, 2.0)\n",
    "\n",
    "for subi, sub in tqdm(enumerate(namelist)):\n",
    "    mpc_ = h5py.File(f'/n02dat01/users/dyli/Grad_data/sc/SC_MPC_U100/{sub}_L_MPC.mat')\n",
    "    mpc_sub = mpc_['MPCi']\n",
    "    if etiv_info[subi]<1.2:\n",
    "        mpc_1 = mpc_1 + mpc_sub\n",
    "    elif etiv_info[subi]<1.4:\n",
    "        mpc_2 = mpc_2 + mpc_sub\n",
    "    elif etiv_info[subi]<1.6:\n",
    "        mpc_3 = mpc_3 + mpc_sub\n",
    "    elif etiv_info[subi]<1.8:\n",
    "        mpc_4 = mpc_4 + mpc_sub\n",
    "    elif etiv_info[subi]<2.0:\n",
    "        mpc_5 = mpc_5 + mpc_sub\n",
    "    else:\n",
    "        sys.exit()\n",
    "\n",
    "np.save('/n02dat01/users/dyli/Grad_data/sc/HCP_U100_mpc_1.npy', mpc_1/len(np.argwhere(etiv_info<1.2)))\n",
    "np.save('/n02dat01/users/dyli/Grad_data/sc/HCP_U100_mpc_2.npy', mpc_2/(len(np.argwhere(etiv_info<1.4))) - len(np.argwhere(etiv_info<1.2)))\n",
    "np.save('/n02dat01/users/dyli/Grad_data/sc/HCP_U100_mpc_3.npy', mpc_3/(len(np.argwhere(etiv_info<1.6))) - len(np.argwhere(etiv_info<1.4)))\n",
    "np.save('/n02dat01/users/dyli/Grad_data/sc/HCP_U100_mpc_4.npy', mpc_4/(len(np.argwhere(etiv_info<1.8))) - len(np.argwhere(etiv_info<1.6)))\n",
    "np.save('/n02dat01/users/dyli/Grad_data/sc/HCP_U100_mpc_5.npy', mpc_5/(len(np.argwhere(etiv_info<2.0))) - len(np.argwhere(etiv_info<1.8)))"
   ]
  },
  {
   "cell_type": "code",
   "execution_count": 16,
   "metadata": {},
   "outputs": [],
   "source": [
    "mpc_1 = np.load('/n02dat01/users/dyli/Grad_data/sc/HCP_U100_mpc_1.npy')\n",
    "mpc_2 = np.load('/n02dat01/users/dyli/Grad_data/sc/HCP_U100_mpc_2.npy')\n",
    "mpc_3 = np.load('/n02dat01/users/dyli/Grad_data/sc/HCP_U100_mpc_3.npy')\n",
    "mpc_4 = np.load('/n02dat01/users/dyli/Grad_data/sc/HCP_U100_mpc_4.npy')\n",
    "mpc_5 = np.load('/n02dat01/users/dyli/Grad_data/sc/HCP_U100_mpc_5.npy')"
   ]
  },
  {
   "cell_type": "code",
   "execution_count": 17,
   "metadata": {},
   "outputs": [
    {
     "data": {
      "image/png": "[encoded data removed]",
      "text/plain": [
       "<Figure size 432x360 with 2 Axes>"
      ]
     },
     "metadata": {
      "needs_background": "light"
     },
     "output_type": "display_data"
    }
   ],
   "source": [
    "import seaborn as sns\n",
    "\n",
    "# mpc_1[np.isnan(mpc_1)]=0\n",
    "# mpc_2[np.isnan(mpc_2)]=0\n",
    "# mpc_3[np.isnan(mpc_3)]=0\n",
    "# mpc_4[np.isnan(mpc_4)]=0\n",
    "# mpc_5[np.isnan(mpc_5)]=0\n",
    "\n",
    "# left\n",
    "results = np.zeros((5,5))\n",
    "results[0,1] = np.corrcoef(mpc_1.flatten(), mpc_2.flatten())[0,1]\n",
    "results[0,2] = np.corrcoef(mpc_1.flatten(), mpc_3.flatten())[0,1]\n",
    "results[0,3] = np.corrcoef(mpc_1.flatten(), mpc_4.flatten())[0,1]\n",
    "results[0,4] = np.corrcoef(mpc_1.flatten(), mpc_5.flatten())[0,1]\n",
    "results[1,2] = np.corrcoef(mpc_2.flatten(), mpc_3.flatten())[0,1]\n",
    "results[1,3] = np.corrcoef(mpc_2.flatten(), mpc_4.flatten())[0,1]\n",
    "results[1,4] = np.corrcoef(mpc_2.flatten(), mpc_5.flatten())[0,1]\n",
    "results[2,3] = np.corrcoef(mpc_3.flatten(), mpc_4.flatten())[0,1]\n",
    "results[2,4] = np.corrcoef(mpc_3.flatten(), mpc_5.flatten())[0,1]\n",
    "results[3,4] = np.corrcoef(mpc_4.flatten(), mpc_5.flatten())[0,1]\n",
    "\n",
    "results[results==0] = np.nan\n",
    "df = pd.DataFrame(results, columns=['1.0-1.2', '1.2-1.4', '1.4-1.6', '1.6-1.8', '1.8-2.0'])\n",
    "\n",
    "f, ax= plt.subplots(figsize = (6, 5))\n",
    "fig = sns.heatmap(df, \n",
    "                  cmap='YlGnBu_r', \n",
    "                  vmin=0.5, \n",
    "                  vmax=1, \n",
    "                  cbar=False, \n",
    "                  annot=True, \n",
    "                  annot_kws={'size':15})\n",
    "cb = fig.figure.colorbar(fig.collections[0]) #显示colorbar\n",
    "cb.ax.tick_params(labelsize=15) #设置colorbar刻度字体大小\n",
    "ax.tick_params(labelsize=15)\n",
    "# ax.set_xticklabels(ax.get_xticklabels(), rotation=0, ha = 'right')\n",
    "# ax.set_yticklabels(ax.get_yticklabels(), rotation=0, ha = 'right')\n",
    "fig = fig.get_figure()\n",
    "plt.xticks(fontsize=20)\n",
    "plt.yticks(fontsize=20)\n",
    "plt.show()"
   ]
  },
  {
   "cell_type": "code",
   "execution_count": 20,
   "metadata": {},
   "outputs": [
    {
     "data": {
      "image/png": "[encoded data removed]",
      "text/plain": [
       "<Figure size 432x360 with 2 Axes>"
      ]
     },
     "metadata": {
      "needs_background": "light"
     },
     "output_type": "display_data"
    }
   ],
   "source": [
    "results[results==0] = np.nan\n",
    "df = pd.DataFrame(results, index=['1.0-1.2', '1.2-1.4', '1.4-1.6', '1.6-1.8', '1.8-2.0'])\n",
    "\n",
    "f, ax= plt.subplots(figsize = (6, 5))\n",
    "fig = sns.heatmap(df, \n",
    "                  cmap='YlGnBu_r', \n",
    "                  vmin=0.5, \n",
    "                  vmax=1, \n",
    "                  cbar=False, \n",
    "                  annot=True, \n",
    "                  annot_kws={'size':15})\n",
    "cb = fig.figure.colorbar(fig.collections[0]) #显示colorbar\n",
    "cb.ax.tick_params(labelsize=15) #设置colorbar刻度字体大小\n",
    "ax.tick_params(labelsize=15)\n",
    "# ax.set_xticklabels(ax.get_xticklabels(), rotation=0, ha = 'right')\n",
    "# ax.set_yticklabels(ax.get_yticklabels(), rotation=0, ha = 'right')\n",
    "fig = fig.get_figure()\n",
    "plt.xticks(fontsize=20)\n",
    "plt.yticks(fontsize=20, rotation=0)\n",
    "plt.ylabel('eTIV range (1e6)', fontsize=20)\n",
    "plt.show()"
   ]
  }
 ],
 "metadata": {
  "kernelspec": {
   "display_name": "Python 3",
   "language": "python",
   "name": "python3"
  },
  "language_info": {
   "codemirror_mode": {
    "name": "ipython",
    "version": 3
   },
   "file_extension": ".py",
   "mimetype": "text/x-python",
   "name": "python",
   "nbconvert_exporter": "python",
   "pygments_lexer": "ipython3",
   "version": "3.8.12"
  }
 },
 "nbformat": 4,
 "nbformat_minor": 2
}
